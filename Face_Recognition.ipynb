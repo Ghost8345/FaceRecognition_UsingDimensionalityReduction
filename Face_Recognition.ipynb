{
  "cells": [
    {
      "cell_type": "markdown",
      "metadata": {
        "id": "xeN3KjZkb9KY"
      },
      "source": [
        "# Face Recognition\n"
      ]
    },
    {
      "cell_type": "code",
      "execution_count": null,
      "metadata": {
        "id": "W7npYIZM4GBq"
      },
      "outputs": [],
      "source": [
        "import os\n",
        "import numpy as np\n",
        "import scipy as sc\n",
        "import pandas as pd\n",
        "from PIL import Image\n",
        "from math import floor, ceil\n",
        "from sklearn.neighbors import KNeighborsClassifier\n",
        "from sklearn.metrics import accuracy_score\n",
        "import matplotlib.pyplot as plt\n",
        "from sklearn.decomposition import PCA as RPCA\n",
        "from sklearn.discriminant_analysis import QuadraticDiscriminantAnalysis as QDA"
      ]
    },
    {
      "cell_type": "markdown",
      "metadata": {
        "id": "oRzCQpOHcM-N"
      },
      "source": [
        "## 1- Understand the format and download data"
      ]
    },
    {
      "cell_type": "code",
      "execution_count": null,
      "metadata": {
        "id": "M18cojnw6PT0"
      },
      "outputs": [],
      "source": [
        "!unzip archive.zip"
      ]
    },
    {
      "cell_type": "code",
      "execution_count": null,
      "metadata": {
        "id": "o_tLf_AaGNEd"
      },
      "outputs": [],
      "source": [
        "def readFile(path):\n",
        "  image = Image.open(path)\n",
        "  imageVector = np.asarray(image)\n",
        "  imageVector = imageVector.flatten()\n",
        "  return imageVector"
      ]
    },
    {
      "cell_type": "markdown",
      "metadata": {
        "id": "1LxF0FBxcefH"
      },
      "source": [
        "## 2- Generate Data Matrix and Label Vector\n"
      ]
    },
    {
      "cell_type": "code",
      "execution_count": null,
      "metadata": {
        "id": "lZTqwfbS_QxJ"
      },
      "outputs": [],
      "source": [
        "def loadImages():\n",
        "  images = []\n",
        "  labels = []\n",
        "  for id in range(1,41):\n",
        "    for img in range(1,11):\n",
        "      path = f's{id}/{img}.pgm'\n",
        "      img = readFile(path)\n",
        "      images.append(img)\n",
        "      labels.append(id) \n",
        "  npimages = np.array(images, dtype=np.uint8)\n",
        "  nplabels = np.array(labels, dtype=np.uint8)\n",
        "\n",
        "  return npimages, nplabels"
      ]
    },
    {
      "cell_type": "markdown",
      "metadata": {
        "id": "tR417Ix7cuv1"
      },
      "source": [
        "## 3- Split dataset evenly\n"
      ]
    },
    {
      "cell_type": "code",
      "execution_count": null,
      "metadata": {
        "id": "Po5KUuWEB_9j"
      },
      "outputs": [],
      "source": [
        "def splitdataEvenly(dataMatrix, labelVector): \n",
        "  print(dataMatrix.dtype, labelVector.dtype)\n",
        "  trainingMatrix = np.zeros((int(dataMatrix.shape[0]/2), dataMatrix.shape[1]), dtype=np.uint8)\n",
        "  trainingVector = np.zeros(int(labelVector.shape[0]/2), dtype=np.uint8)\n",
        "  testingMatrix = np.zeros((int(dataMatrix.shape[0]/2), dataMatrix.shape[1]), dtype=np.uint8)\n",
        "  testingVector = np.zeros(int(labelVector.shape[0]/2), dtype=np.uint8)\n",
        "  for i in range(dataMatrix.shape[0]):\n",
        "    if (i % 2 == 0):\n",
        "      trainingMatrix[int(i/2)] = dataMatrix[i]\n",
        "      trainingVector[int(i/2)] = labelVector[i]\n",
        "    else:\n",
        "      testingMatrix[floor(i/2)] = dataMatrix[i]\n",
        "      testingVector[floor(i/2)] = labelVector[i]\n",
        "  \n",
        "  return trainingMatrix, trainingVector, testingMatrix, testingVector\n",
        "    \n"
      ]
    },
    {
      "cell_type": "code",
      "execution_count": null,
      "metadata": {
        "id": "SOaQH4tQSgE3"
      },
      "outputs": [],
      "source": [
        "images, labels = loadImages()"
      ]
    },
    {
      "cell_type": "code",
      "execution_count": null,
      "metadata": {
        "id": "9L_E0OjKFVd1"
      },
      "outputs": [],
      "source": [
        "trainingMatrix, trainingVector, testingMatrix, testingVector = splitdataEvenly(images, labels)"
      ]
    },
    {
      "cell_type": "markdown",
      "metadata": {
        "id": "KvIZL2Osc6yO"
      },
      "source": [
        "## 4- PCA Classification\n"
      ]
    },
    {
      "cell_type": "code",
      "execution_count": null,
      "metadata": {
        "id": "sJO83PwrL_mA"
      },
      "outputs": [],
      "source": [
        "def PCA(data, alpha):\n",
        "  meanVector = np.mean(data, axis = 0)\n",
        "  z = data - meanVector\n",
        "  cov = np.cov(z.transpose(), bias = True)\n",
        "\n",
        "  eigenValues, eigenVectors = sc.linalg.eigh(cov)\n",
        "  eigenValues = np.real(eigenValues)\n",
        "  eigenVectors = np.real(eigenVectors)\n",
        "  eigenValues = np.abs(eigenValues)\n",
        "  sort_perm = eigenValues.argsort()\n",
        "  eigenValues = np.flip(eigenValues[sort_perm])\n",
        "  eigenVectors = np.flip(eigenVectors[:, sort_perm], axis = 1)\n",
        "\n",
        "  localAlpha = 0;\n",
        "  i = 0\n",
        "  eigenValuesSum = np.sum(eigenValues)\n",
        "\n",
        "  while (localAlpha < alpha):\n",
        "    localAlpha += eigenValues[i] / eigenValuesSum\n",
        "    i += 1\n",
        "\n",
        "    \n",
        "  projectionMatrix = eigenVectors[:, :i]\n",
        "  projectedData = np.matmul(z, projectionMatrix)\n",
        "  return projectedData, projectionMatrix\n",
        "      "
      ]
    },
    {
      "cell_type": "code",
      "execution_count": null,
      "metadata": {
        "colab": {
          "base_uri": "https://localhost:8080/"
        },
        "id": "k4RchItiXxxr",
        "outputId": "d1d6e069-70dd-4c9b-a7bf-c996fa9bf61b"
      },
      "outputs": [
        {
          "name": "stdout",
          "output_type": "stream",
          "text": [
            "for 0.8: accuracy = 0.95\n",
            "for 0.85: accuracy = 0.95\n",
            "for 0.9: accuracy = 0.935\n",
            "for 0.95: accuracy = 0.94\n"
          ]
        }
      ],
      "source": [
        "alpha = [0.8,0.85,0.9,0.95]\n",
        "\n",
        "for a in alpha:\n",
        "  projectedData, projectionMatrix = PCA(trainingMatrix, a)\n",
        "\n",
        "  projectedTestData = np.matmul((testingMatrix - np.mean(testingMatrix, axis = 0)), projectionMatrix)\n",
        "\n",
        "  knc = KNeighborsClassifier(n_neighbors=1)\n",
        "  knc.fit(projectedData, trainingVector)\n",
        "\n",
        "  predictedLabels = knc.predict(projectedTestData)\n",
        "\n",
        "  accuracy = accuracy_score(testingVector, predictedLabels)\n",
        "  print(f'for {a}: accuracy = {accuracy}')\n",
        "\n",
        "\n",
        "\n"
      ]
    },
    {
      "cell_type": "markdown",
      "metadata": {
        "id": "QraEr-6jtbQK"
      },
      "source": [
        "- As seen above increasing alpha doesn't necessarily mean that the accuracy will increase.\n",
        "\n",
        "- Increasing alpha too much adds extra dimensions that may be noisy and don't contribute to the variance of the data too much which would make a simple classifer as knn classify wrong data.\n",
        "\n",
        "\n"
      ]
    },
    {
      "cell_type": "markdown",
      "metadata": {
        "id": "x-BiJxu5euLv"
      },
      "source": [
        "## 5- LDA Classification"
      ]
    },
    {
      "cell_type": "code",
      "execution_count": null,
      "metadata": {
        "id": "Waysi91s0N0I"
      },
      "outputs": [],
      "source": [
        "def classMeans(data, labels, labelsCount):\n",
        "  means = dict()\n",
        "  for i in range(1, labelsCount + 1):\n",
        "    vectorsPos = np.where(labels == i)\n",
        "    vectors = np.take(data, vectorsPos, axis = 0)\n",
        "    means[i] = np.mean(vectors, axis = 1)\n",
        "  return means"
      ]
    },
    {
      "cell_type": "code",
      "execution_count": null,
      "metadata": {
        "id": "QlHPSMLB5BRS"
      },
      "outputs": [],
      "source": [
        "def overallMean(data):\n",
        "  return np.mean(data, axis = 0)"
      ]
    },
    {
      "cell_type": "code",
      "execution_count": null,
      "metadata": {
        "id": "neCxFxri3r94"
      },
      "outputs": [],
      "source": [
        "def calculateScatterMatrices(data, labels, labelsCount):\n",
        "  means = classMeans(data, labels, labelsCount)\n",
        "  overallmean = overallMean(data)\n",
        "  S = np.zeros((len(data[0]),len(data[0])))\n",
        "  Sb = np.zeros((len(data[0]), len(data[0])))\n",
        "  for i in range(1, labelsCount):\n",
        "    vectorsPos = np.where(labels == i)\n",
        "    Z = np.take(data, vectorsPos, axis = 0)[0] - means[i][0]\n",
        "    S += np.dot(Z.T, Z)\n",
        "    \n",
        "    nk = len(np.where(labels == i)[0])\n",
        "    currentMean = means[i][0].reshape(len(data[0]),1) # make column vector\n",
        "    overallm = overallmean.reshape(len(data[0]),1) # make column vector\n",
        "    Sb += nk * (currentMean - overallm).dot((currentMean - overallm).T)\n",
        "  return S, Sb "
      ]
    },
    {
      "cell_type": "code",
      "execution_count": null,
      "metadata": {
        "id": "FkZ_vpbfNBhR"
      },
      "outputs": [],
      "source": [
        "def LDA(n, data, labels):\n",
        "  S, Sb = calculateScatterMatrices(data, labels, len(np.unique(labels)))\n",
        "  S_inv = sc.linalg.pinv(S)\n",
        "  W = np.dot(S_inv, Sb)\n",
        "  print(\"The within-class matrix Sw = \\n\",S,\"\\n\")\n",
        "  print(\"The inverse within-class matrix Sw = \\n\",S_inv,\"\\n\")\n",
        "  print(\"The between-class matrix Sb = \\n\",Sb,\"\\n\")\n",
        "  eigenValues, eigenVectors = sc.linalg.eig(W)\n",
        "  print(\"Eigenvectors before any operation = \\n\",eigenValues, eigenVectors,\"\\n\")\n",
        "  eigenValues = np.real(eigenValues)\n",
        "  eigenVectors = np.real(eigenVectors)\n",
        "  eigenValues = np.abs(eigenValues)\n",
        "  sort_perm = eigenValues.argsort()\n",
        "  eigenValues = np.flip(eigenValues[sort_perm])\n",
        "  eigenVectors = np.flip(eigenVectors[:, sort_perm], axis = 1)\n",
        "\n",
        "  projectionMatrix = eigenVectors[:, :n]\n",
        "\n",
        "  print(\"Projection Matrix = \\n\", projectionMatrix, \"\\n\")\n",
        "\n",
        "  return projectionMatrix"
      ]
    },
    {
      "cell_type": "code",
      "execution_count": null,
      "metadata": {
        "colab": {
          "base_uri": "https://localhost:8080/"
        },
        "id": "GdalyrS7A3dr",
        "outputId": "c30194da-2e12-4d61-b4c2-658b9f6c452a"
      },
      "outputs": [
        {
          "name": "stdout",
          "output_type": "stream",
          "text": [
            "The within-class matrix Sw = \n",
            " [[26656.  26812.8 25523.  ...  2432.4  1023.8  1637.8]\n",
            " [26812.8 29431.6 27181.4 ...  1939.8   358.4   644.2]\n",
            " [25523.  27181.4 28030.8 ...  2999.6   720.2  -413.4]\n",
            " ...\n",
            " [ 2432.4  1939.8  2999.6 ... 77763.6 64940.8 42543. ]\n",
            " [ 1023.8   358.4   720.2 ... 64940.8 72884.4 53673.8]\n",
            " [ 1637.8   644.2  -413.4 ... 42543.  53673.8 75447.6]] \n",
            "\n",
            "The inverse within-class matrix Sw = \n",
            " [[ 6.75758612e-10  4.47799592e-10  3.55528605e-10 ... -7.56014067e-11\n",
            "  -3.63567149e-10 -3.46229221e-10]\n",
            " [ 4.47799592e-10  5.97548683e-10  4.21934634e-10 ... -2.28564660e-11\n",
            "  -2.13757766e-10 -2.06358312e-10]\n",
            " [ 3.55528605e-10  4.21934634e-10  6.16647802e-10 ...  3.00840469e-10\n",
            "   7.76705616e-11 -8.18384695e-11]\n",
            " ...\n",
            " [-7.56014067e-11 -2.28564660e-11  3.00840469e-10 ...  7.20457132e-09\n",
            "   4.69731676e-09  2.21335417e-09]\n",
            " [-3.63567149e-10 -2.13757766e-10  7.76705616e-11 ...  4.69731676e-09\n",
            "   6.43455167e-09  3.93704994e-09]\n",
            " [-3.46229221e-10 -2.06358312e-10 -8.18384695e-11 ...  2.21335417e-09\n",
            "   3.93704994e-09  6.86353478e-09]] \n",
            "\n",
            "The between-class matrix Sb = \n",
            " [[213875.368875 213325.512625 210922.766125 ... -17097.8075\n",
            "  -22188.817125 -10920.683875]\n",
            " [213325.512625 213612.643875 210951.372375 ... -18746.7825\n",
            "  -23447.973375 -11983.777625]\n",
            " [210922.766125 210951.372375 208810.898875 ... -19343.0925\n",
            "  -24546.727875 -13438.051125]\n",
            " ...\n",
            " [-17097.8075   -18746.7825   -19343.0925   ... 298739.15\n",
            "  305788.9525   291707.3075  ]\n",
            " [-22188.817125 -23447.973375 -24546.727875 ... 305788.9525\n",
            "  318843.364875 305926.022125]\n",
            " [-10920.683875 -11983.777625 -13438.051125 ... 291707.3075\n",
            "  305926.022125 300054.598875]] \n",
            "\n",
            "Eigenvectors before any operation = \n",
            " [ 2.27813013e+01+0.j  1.43850450e+01+0.j  9.66195828e+00+0.j ...\n",
            " -3.60903396e-18+0.j -1.02369321e-17+0.j -8.42373024e-18+0.j] [[-0.00383652+0.j -0.00815889+0.j  0.00175509+0.j ... -0.00463161+0.j\n",
            "  -0.00266184+0.j -0.00099154+0.j]\n",
            " [-0.00374983+0.j -0.0094247 +0.j  0.0035249 +0.j ...  0.00519604+0.j\n",
            "   0.00379624+0.j  0.0041596 +0.j]\n",
            " [-0.00129421+0.j -0.00971996+0.j  0.00265592+0.j ...  0.00421958+0.j\n",
            "   0.00261767+0.j  0.00293268+0.j]\n",
            " ...\n",
            " [ 0.03048944+0.j -0.00328256+0.j  0.00985858+0.j ... -0.00930403+0.j\n",
            "  -0.00381861+0.j -0.00521513+0.j]\n",
            " [ 0.01806736+0.j  0.01965324+0.j  0.0204666 +0.j ...  0.00434923+0.j\n",
            "  -0.00346876+0.j -0.00212927+0.j]\n",
            " [ 0.01195972+0.j  0.02043958+0.j  0.01994825+0.j ... -0.01163668+0.j\n",
            "   0.00792658+0.j -0.00064436+0.j]] \n",
            "\n",
            "Projection Matrix = \n",
            " [[-3.83651541e-03 -8.15888983e-03  1.75509377e-03 ... -1.86977064e-03\n",
            "   3.58696758e-03 -4.15045749e-05]\n",
            " [-3.74983100e-03 -9.42469730e-03  3.52489893e-03 ... -2.64211460e-03\n",
            "   4.48548207e-03 -5.72321840e-05]\n",
            " [-1.29421263e-03 -9.71996084e-03  2.65592348e-03 ... -3.77329924e-03\n",
            "   4.32942195e-03  4.40142209e-04]\n",
            " ...\n",
            " [ 3.04894423e-02 -3.28255631e-03  9.85857565e-03 ... -2.44650330e-02\n",
            "   1.96360505e-03  5.22968926e-04]\n",
            " [ 1.80673598e-02  1.96532415e-02  2.04666011e-02 ... -1.83136378e-02\n",
            "  -2.29958255e-03  7.86826733e-03]\n",
            " [ 1.19597151e-02  2.04395830e-02  1.99482473e-02 ... -1.10766947e-02\n",
            "  -6.52830456e-03  1.20270243e-02]] \n",
            "\n",
            "LDA accuracy = 0.945\n"
          ]
        }
      ],
      "source": [
        "projectionMatrix = LDA(39, trainingMatrix, trainingVector)\n",
        "\n",
        "projectedTrain = np.matmul(trainingMatrix - np.mean(trainingMatrix, axis = 0), projectionMatrix)\n",
        "projectedTest = np.matmul(testingMatrix- np.mean(testingMatrix, axis = 0), projectionMatrix)\n",
        "\n",
        "knc = KNeighborsClassifier(n_neighbors=1)\n",
        "knc.fit(projectedTrain, trainingVector)\n",
        "\n",
        "predictedLabels = knc.predict(projectedTest)\n",
        "\n",
        "accuracy = accuracy_score(testingVector, predictedLabels)\n",
        "print(f'LDA accuracy = {accuracy}')\n"
      ]
    },
    {
      "cell_type": "markdown",
      "metadata": {
        "id": "OLYU4pfpi5nP"
      },
      "source": [
        "## 6- Classifier Tuning\n"
      ]
    },
    {
      "cell_type": "code",
      "execution_count": null,
      "metadata": {
        "colab": {
          "base_uri": "https://localhost:8080/"
        },
        "id": "sS8jveqTSh-U",
        "outputId": "c3a9ec3f-2659-4197-c898-f220f2c79281"
      },
      "outputs": [
        {
          "name": "stdout",
          "output_type": "stream",
          "text": [
            "for 1 neighbors: accuracy = 0.945\n",
            "for 3 neighbors: accuracy = 0.955\n",
            "for 5 neighbors: accuracy = 0.945\n",
            "for 7 neighbors: accuracy = 0.945\n"
          ]
        }
      ],
      "source": [
        "projectedTrain = np.matmul(trainingMatrix, projectionMatrix)\n",
        "projectedTest = np.matmul(testingMatrix, projectionMatrix)\n",
        "K = [1, 3, 5, 7]\n",
        "LDA_accuracy = []\n",
        "for k in K:\n",
        "  knc = KNeighborsClassifier(n_neighbors=k)\n",
        "  knc.fit(projectedTrain, trainingVector)\n",
        "\n",
        "  predictedLabels = knc.predict(projectedTest)\n",
        "\n",
        "  accuracy = accuracy_score(testingVector, predictedLabels)\n",
        "  LDA_accuracy.append(accuracy)\n",
        "  print(f'for {k} neighbors: accuracy = {accuracy}')"
      ]
    },
    {
      "cell_type": "code",
      "execution_count": null,
      "metadata": {
        "colab": {
          "base_uri": "https://localhost:8080/"
        },
        "id": "xgQYyiBVjpaG",
        "outputId": "3fe8c350-db53-48aa-ee37-befec3624e58"
      },
      "outputs": [
        {
          "name": "stdout",
          "output_type": "stream",
          "text": [
            "for 1 neighbors: accuracy = 0.95\n",
            "for 3 neighbors: accuracy = 0.895\n",
            "for 5 neighbors: accuracy = 0.845\n",
            "for 7 neighbors: accuracy = 0.78\n"
          ]
        }
      ],
      "source": [
        "projectedData, projectionMatrix = PCA(trainingMatrix, 0.85) # Assuming a fixed alpha\n",
        "projectedTestData = np.matmul((testingMatrix - np.mean(testingMatrix, axis = 0)), projectionMatrix)\n",
        "\n",
        "PCA_accuracy = []\n",
        "for k in K:\n",
        "  knc = KNeighborsClassifier(n_neighbors=k)\n",
        "  knc.fit(projectedData, trainingVector)\n",
        "\n",
        "  predictedLabels = knc.predict(projectedTestData)\n",
        "\n",
        "  accuracy = accuracy_score(testingVector, predictedLabels)\n",
        "  PCA_accuracy.append(accuracy)\n",
        "  print(f'for {k} neighbors: accuracy = {accuracy}')"
      ]
    },
    {
      "cell_type": "code",
      "execution_count": null,
      "metadata": {
        "colab": {
          "base_uri": "https://localhost:8080/",
          "height": 279
        },
        "id": "IjMNXIE-iOCR",
        "outputId": "3e92f20a-a1ad-4c1e-cd9f-17525deae391"
      },
      "outputs": [
        {
          "data": {
            "image/png": "[encoded data removed]",
            "text/plain": [
              "<Figure size 432x288 with 1 Axes>"
            ]
          },
          "metadata": {},
          "output_type": "display_data"
        }
      ],
      "source": [
        "plt.plot(K, LDA_accuracy, label = \"LDA\")\n",
        "plt.plot(K, PCA_accuracy, label = \"PCA\")\n",
        "plt.xlabel('Number Of Neighbors')\n",
        "plt.ylabel('Accuracy')\n",
        "plt.legend()\n",
        "plt.show()"
      ]
    },
    {
      "cell_type": "markdown",
      "metadata": {
        "id": "myLwF7CHmaiK"
      },
      "source": [
        "## 7-Non-Face vs Face Classification\n"
      ]
    },
    {
      "cell_type": "code",
      "execution_count": null,
      "metadata": {
        "id": "bNEZ7x-OqV_s"
      },
      "outputs": [],
      "source": [
        "def loadNonFace():\n",
        "  images = []\n",
        "  for id in range(1,682):\n",
        "    path = f'drive/MyDrive/Pattern Lab 1 Data/Non Face Images/nonface/d ({id}).jpg'\n",
        "    image = Image.open(path)\n",
        "    image = image.resize((92, 112)).convert('L')\n",
        "    imageVector = np.asarray(image)\n",
        "    imageVector = imageVector.flatten()\n",
        "    images.append(imageVector)\n",
        "  npimages = np.array(images, dtype=np.uint8)\n",
        "\n",
        "  return npimages"
      ]
    },
    {
      "cell_type": "code",
      "execution_count": null,
      "metadata": {
        "colab": {
          "base_uri": "https://localhost:8080/"
        },
        "id": "06v7NL_2NABr",
        "outputId": "92d062ec-84c7-483d-bd85-527f69ffaa93"
      },
      "outputs": [
        {
          "output_type": "stream",
          "name": "stdout",
          "text": [
            "Mounted at /content/drive\n"
          ]
        }
      ],
      "source": [
        "from google.colab import drive\n",
        "drive.mount('/content/drive')"
      ]
    },
    {
      "cell_type": "code",
      "execution_count": null,
      "metadata": {
        "id": "6twD-bOWo6hi"
      },
      "outputs": [],
      "source": [
        "def get_faces_nonfaces_data(faces, nonfaces, k):\n",
        "  # k: number of nonfaces in training\n",
        "  # labels: face => 1, nonface => 0\n",
        "  nonfacesTesting = nonfaces[:200]\n",
        "  nonfacesTraining = nonfaces[200:200+k]\n",
        "  facesTraining,_, facesTesting, _ = splitdataEvenly(faces, np.array([1]*400))\n",
        "  \n",
        "  hybridTraining = np.concatenate((nonfacesTraining, facesTraining), axis=0)\n",
        "  hybridTrainingLabels = np.asarray([0]*len(nonfacesTraining) + [1]*len(facesTraining))\n",
        "\n",
        "  hybridTesting = np.concatenate((nonfacesTesting, facesTesting), axis = 0) \n",
        "  hybridTestingLabels = np.asarray([0]*len(nonfacesTesting) + [1]*len(facesTesting))\n",
        "\n",
        "  return hybridTraining, hybridTrainingLabels, hybridTesting, hybridTestingLabels"
      ]
    },
    {
      "cell_type": "code",
      "source": [
        "def number_success_fail(predicted_labels, actual_labels):\n",
        "  success = [0,0]\n",
        "  fail = [0,0]\n",
        "  for i in range(len(predicted_labels)):\n",
        "    if predicted_labels[i] == actual_labels[i]:\n",
        "      success[actual_labels[i]] += 1\n",
        "    else:\n",
        "      fail[actual_labels[i]] += 1\n",
        "  return success, fail"
      ],
      "metadata": {
        "id": "gztgJqsoHeMp"
      },
      "execution_count": null,
      "outputs": []
    },
    {
      "cell_type": "code",
      "source": [
        "nonfaces = loadNonFace()\n",
        "faces = images\n",
        "training, _, testing, testingLabels = get_faces_nonfaces_data(faces, nonfaces, 100)\n",
        "\n",
        "for a in [0.8, 0.9]:\n",
        "  accuracies = []\n",
        "  n_nonfaces_images = [100,200,300]\n",
        "  for k in n_nonfaces_images:\n",
        "    training, trainingLabels, testing, testingLabels = get_faces_nonfaces_data(faces, nonfaces, k)\n",
        "\n",
        "    projectedData, projectionMatrix = PCA(training, a)\n",
        "    projectedTestData = np.matmul((testing - np.mean(testing, axis=0)), projectionMatrix)\n",
        "\n",
        "    knc = KNeighborsClassifier(n_neighbors=1)\n",
        "    knc.fit(projectedData, trainingLabels)\n",
        "\n",
        "    predictedLabels = knc.predict(projectedTestData)\n",
        "    n_success, n_fail = number_success_fail(predictedLabels, testingLabels)\n",
        "    accuracy = accuracy_score(testingLabels, predictedLabels)\n",
        "    accuracies.append(accuracy)\n",
        "    print(f'for {a}, {k}:')\n",
        "    print(f'\\tfaces #success: {n_success[1]}, #fail: {n_fail[1]} ')\n",
        "    print(f'\\tnonfaces #success: {n_success[0]}, #fail: {n_fail[0]} ')\n",
        "    print(f'\\tAccuarcy: {accuracy*100}%')\n",
        "    \n",
        "  plt.plot([100,200,300], accuracies)\n",
        "  plt.xlabel('Number Of Nonfaces Images')\n",
        "  plt.ylabel('Accuracy')\n",
        "  plt.show()"
      ],
      "metadata": {
        "id": "9O81mWSEHhH4",
        "colab": {
          "base_uri": "https://localhost:8080/",
          "height": 373
        },
        "outputId": "de9cb0f3-4d48-4cb8-f7af-7407fe974266"
      },
      "execution_count": null,
      "outputs": [
        {
          "output_type": "stream",
          "name": "stdout",
          "text": [
            "uint8 int64\n"
          ]
        },
        {
          "output_type": "error",
          "ename": "ValueError",
          "evalue": "ignored",
          "traceback": [
            "\u001b[0;31m---------------------------------------------------------------------------\u001b[0m",
            "\u001b[0;31mValueError\u001b[0m                                Traceback (most recent call last)",
            "\u001b[0;32m<ipython-input-39-518ef26cbab8>\u001b[0m in \u001b[0;36m<module>\u001b[0;34m\u001b[0m\n\u001b[1;32m      1\u001b[0m \u001b[0mnonfaces\u001b[0m \u001b[0;34m=\u001b[0m \u001b[0mloadNonFace\u001b[0m\u001b[0;34m(\u001b[0m\u001b[0;34m)\u001b[0m\u001b[0;34m\u001b[0m\u001b[0;34m\u001b[0m\u001b[0m\n\u001b[1;32m      2\u001b[0m \u001b[0mfaces\u001b[0m \u001b[0;34m=\u001b[0m \u001b[0mimages\u001b[0m\u001b[0;34m\u001b[0m\u001b[0;34m\u001b[0m\u001b[0m\n\u001b[0;32m----> 3\u001b[0;31m \u001b[0mtraining\u001b[0m\u001b[0;34m,\u001b[0m \u001b[0m_\u001b[0m\u001b[0;34m,\u001b[0m \u001b[0mtesting\u001b[0m\u001b[0;34m,\u001b[0m \u001b[0mtestingLabels\u001b[0m \u001b[0;34m=\u001b[0m \u001b[0mget_faces_nonfaces_data\u001b[0m\u001b[0;34m(\u001b[0m\u001b[0mfaces\u001b[0m\u001b[0;34m,\u001b[0m \u001b[0mnonfaces\u001b[0m\u001b[0;34m,\u001b[0m \u001b[0;36m100\u001b[0m\u001b[0;34m)\u001b[0m\u001b[0;34m\u001b[0m\u001b[0;34m\u001b[0m\u001b[0m\n\u001b[0m\u001b[1;32m      4\u001b[0m \u001b[0;34m\u001b[0m\u001b[0m\n\u001b[1;32m      5\u001b[0m \u001b[0;32mfor\u001b[0m \u001b[0ma\u001b[0m \u001b[0;32min\u001b[0m \u001b[0;34m[\u001b[0m\u001b[0;36m0.8\u001b[0m\u001b[0;34m,\u001b[0m \u001b[0;36m0.9\u001b[0m\u001b[0;34m]\u001b[0m\u001b[0;34m:\u001b[0m\u001b[0;34m\u001b[0m\u001b[0;34m\u001b[0m\u001b[0m\n",
            "\u001b[0;32m<ipython-input-38-e26b9f3cd85f>\u001b[0m in \u001b[0;36mget_faces_nonfaces_data\u001b[0;34m(faces, nonfaces, k)\u001b[0m\n\u001b[1;32m      4\u001b[0m   \u001b[0mnonfacesTesting\u001b[0m \u001b[0;34m=\u001b[0m \u001b[0mnonfaces\u001b[0m\u001b[0;34m[\u001b[0m\u001b[0;34m:\u001b[0m\u001b[0;36m200\u001b[0m\u001b[0;34m]\u001b[0m\u001b[0;34m\u001b[0m\u001b[0;34m\u001b[0m\u001b[0m\n\u001b[1;32m      5\u001b[0m   \u001b[0mnonfacesTraining\u001b[0m \u001b[0;34m=\u001b[0m \u001b[0mnonfaces\u001b[0m\u001b[0;34m[\u001b[0m\u001b[0;36m200\u001b[0m\u001b[0;34m:\u001b[0m\u001b[0;36m200\u001b[0m\u001b[0;34m+\u001b[0m\u001b[0mk\u001b[0m\u001b[0;34m]\u001b[0m\u001b[0;34m\u001b[0m\u001b[0;34m\u001b[0m\u001b[0m\n\u001b[0;32m----> 6\u001b[0;31m   \u001b[0mfacesTraining\u001b[0m\u001b[0;34m,\u001b[0m\u001b[0m_\u001b[0m\u001b[0;34m,\u001b[0m \u001b[0mfacesTesting\u001b[0m \u001b[0;34m=\u001b[0m \u001b[0msplitdataEvenly\u001b[0m\u001b[0;34m(\u001b[0m\u001b[0mfaces\u001b[0m\u001b[0;34m,\u001b[0m \u001b[0mnp\u001b[0m\u001b[0;34m.\u001b[0m\u001b[0marray\u001b[0m\u001b[0;34m(\u001b[0m\u001b[0;34m[\u001b[0m\u001b[0;36m1\u001b[0m\u001b[0;34m]\u001b[0m\u001b[0;34m*\u001b[0m\u001b[0;36m400\u001b[0m\u001b[0;34m)\u001b[0m\u001b[0;34m)\u001b[0m\u001b[0;34m\u001b[0m\u001b[0;34m\u001b[0m\u001b[0m\n\u001b[0m\u001b[1;32m      7\u001b[0m \u001b[0;34m\u001b[0m\u001b[0m\n\u001b[1;32m      8\u001b[0m   \u001b[0mhybridTraining\u001b[0m \u001b[0;34m=\u001b[0m \u001b[0mnp\u001b[0m\u001b[0;34m.\u001b[0m\u001b[0mconcatenate\u001b[0m\u001b[0;34m(\u001b[0m\u001b[0;34m(\u001b[0m\u001b[0mnonfacesTraining\u001b[0m\u001b[0;34m,\u001b[0m \u001b[0mfacesTraining\u001b[0m\u001b[0;34m)\u001b[0m\u001b[0;34m,\u001b[0m \u001b[0maxis\u001b[0m\u001b[0;34m=\u001b[0m\u001b[0;36m0\u001b[0m\u001b[0;34m)\u001b[0m\u001b[0;34m\u001b[0m\u001b[0;34m\u001b[0m\u001b[0m\n",
            "\u001b[0;31mValueError\u001b[0m: too many values to unpack (expected 3)"
          ]
        }
      ]
    },
    {
      "cell_type": "code",
      "source": [
        "print(\"LDA:\")\n",
        "\n",
        "accuracies = []\n",
        "n_nonfaces_images = [100,200,300]\n",
        "for k in n_nonfaces_images:\n",
        "  training, trainingLabels, testing, testingLabels = get_faces_nonfaces_data(faces, nonfaces, k)\n",
        "\n",
        "  projectionMatrix = LDA(1, training, trainingLabels)\n",
        "  projectedData = np.matmul((training - np.mean(training, axis=0), projectionMatrix)\n",
        "  projectedTestData = np.matmul((testing - np.mean(testing, axis=0)), projectionMatrix)\n",
        "\n",
        "  knc = KNeighborsClassifier(n_neighbors=1)\n",
        "  knc.fit(projectedData, trainingLabels)\n",
        "\n",
        "  predictedLabels = knc.predict(projectedTestData)\n",
        "  n_success, n_fail = number_success_fail(predictedLabels, testingLabels)\n",
        "  accuracy = accuracy_score(testingLabels, predictedLabels)\n",
        "  accuracies.append(accuracy)\n",
        "  print(f'for {a}, {k}:')\n",
        "  print(f'\\tfaces #success: {n_success[1]}, #fail: {n_fail[1]} ')\n",
        "  print(f'\\tnonfaces #success: {n_success[0]}, #fail: {n_fail[0]} ')\n",
        "  print(f'\\tAccuarcy: {accuracy*100}%')\n",
        "  \n",
        "plt.plot([100,200,300], accuracies)\n",
        "plt.xlabel('Number Of Nonfaces Images')\n",
        "plt.ylabel('Accuracy')\n",
        "plt.show()"
      ],
      "metadata": {
        "id": "zFkkaEOIH2EB"
      },
      "execution_count": null,
      "outputs": []
    },
    {
      "cell_type": "markdown",
      "metadata": {
        "id": "VJQIjlxGmjvn"
      },
      "source": [
        "## Bonus-1"
      ]
    },
    {
      "cell_type": "code",
      "execution_count": null,
      "metadata": {
        "id": "O-TlSgFwH5Hc"
      },
      "outputs": [],
      "source": [
        "def splitdata(dataMatrix, labelVector, noOfSamplesTrain, noOfSamplesTest): \n",
        "  k = 0\n",
        "  print(dataMatrix.dtype, labelVector.dtype)\n",
        "  trainingMatrix = np.zeros((int(dataMatrix.shape[0]/2), dataMatrix.shape[1]), dtype=np.uint8)\n",
        "  trainingVector = np.zeros(int(labelVector.shape[0]/2), dtype=np.uint8)\n",
        "  testingMatrix = np.zeros((int(dataMatrix.shape[0]/2), dataMatrix.shape[1]), dtype=np.uint8)\n",
        "  testingVector = np.zeros(int(labelVector.shape[0]/2), dtype=np.uint8)\n",
        "  for i in range(dataMatrix.shape[0]):\n",
        "    if (k >= 0 and k < noOfSamplesTrain):\n",
        "      trainingMatrix[int(i/2)] = dataMatrix[i]\n",
        "      trainingVector[int(i/2)] = labelVector[i]\n",
        "    elif(k >= noOfSamplesTrain and k < noOfSamplesTest + noOfSamplesTrain):\n",
        "      testingMatrix[floor(i/2)] = dataMatrix[i]\n",
        "      testingVector[floor(i/2)] = labelVector[i]\n",
        "    else:\n",
        "      k = 0\n",
        "    k += 1\n",
        "  return trainingMatrix, trainingVector, testingMatrix, testingVector\n",
        "    \n"
      ]
    },
    {
      "cell_type": "code",
      "execution_count": null,
      "metadata": {
        "colab": {
          "base_uri": "https://localhost:8080/"
        },
        "id": "8tS-9AY_I0Uq",
        "outputId": "4af91610-7f4c-4ba9-df22-ecc9b96f34ef"
      },
      "outputs": [
        {
          "name": "stdout",
          "output_type": "stream",
          "text": [
            "uint8 uint8\n"
          ]
        }
      ],
      "source": [
        "trainingMatrix2, trainingVector2, testingMatrix2, testingVector2 = splitdata(images, labels, 7, 3)"
      ]
    },
    {
      "cell_type": "code",
      "execution_count": null,
      "metadata": {
        "id": "dR3K5HaRKZzA"
      },
      "outputs": [],
      "source": [
        "projectionMatrix2 = LDA(39, trainingMatrix2, trainingVector2, len(np.unique(trainingVector2)))"
      ]
    },
    {
      "cell_type": "code",
      "execution_count": null,
      "metadata": {
        "colab": {
          "base_uri": "https://localhost:8080/"
        },
        "id": "VRtElqzUK85s",
        "outputId": "ab0d3059-52b2-42bd-bd39-1276f2e16a6b"
      },
      "outputs": [
        {
          "name": "stdout",
          "output_type": "stream",
          "text": [
            "for 1 neighbors: accuracy = 0.97\n",
            "for 3 neighbors: accuracy = 0.945\n",
            "for 5 neighbors: accuracy = 0.96\n",
            "for 7 neighbors: accuracy = 0.95\n"
          ]
        }
      ],
      "source": [
        "projectedTrain2 = np.matmul(trainingMatrix2, projectionMatrix2)\n",
        "projectedTest2 = np.matmul(testingMatrix2, projectionMatrix2)\n",
        "K = [1, 3, 5, 7]\n",
        "accu = []\n",
        "for k in K:\n",
        "  knc = KNeighborsClassifier(n_neighbors=k)\n",
        "  knc.fit(projectedTrain2, trainingVector2)\n",
        "\n",
        "  predictedLabels = knc.predict(projectedTest2)\n",
        "\n",
        "  accuracy = accuracy_score(testingVector2, predictedLabels)\n",
        "  accu.append(accuracy)\n",
        "  print(f'for {k} neighbors: accuracy = {accuracy}')"
      ]
    },
    {
      "cell_type": "markdown",
      "metadata": {
        "id": "T_LwlIVimuwi"
      },
      "source": [
        "## Bonus-2\n"
      ]
    },
    {
      "cell_type": "markdown",
      "metadata": {
        "id": "Lk6Ts6fT50r7"
      },
      "source": [
        "Random PCA chooses random projection which makes it fast but not well suited for high dimensional data. Time Complexity = O(nkd)\n",
        "\n",
        "[More info](https://mda.tools/docs/pca--randomized-algorithm.html)"
      ]
    },
    {
      "cell_type": "code",
      "execution_count": null,
      "metadata": {
        "colab": {
          "base_uri": "https://localhost:8080/"
        },
        "id": "E2X219VjmxiF",
        "outputId": "a7f982e2-8e7f-49cf-e5ad-0a4c759ca000"
      },
      "outputs": [
        {
          "name": "stdout",
          "output_type": "stream",
          "text": [
            "for 1 neighbors: accuracy = 0.95\n",
            "for 3 neighbors: accuracy = 0.895\n",
            "for 5 neighbors: accuracy = 0.85\n",
            "for 7 neighbors: accuracy = 0.78\n"
          ]
        }
      ],
      "source": [
        "randPCA = RPCA(n_components=50, svd_solver='randomized')\n",
        "projectedData = randPCA.fit_transform(trainingMatrix)\n",
        "projectedTestData = randPCA.transform(testingMatrix)\n",
        "K = [1, 3, 5, 7]\n",
        "for k in K:\n",
        "  knc = KNeighborsClassifier(n_neighbors=k)\n",
        "  knc.fit(projectedData, trainingVector)\n",
        "  predictedLabels = knc.predict(projectedTestData)\n",
        "  accuracy = accuracy_score(testingVector, predictedLabels)\n",
        "  print(f'for {k} neighbors: accuracy = {accuracy}')"
      ]
    },
    {
      "cell_type": "markdown",
      "metadata": {
        "id": "B8LXgl6T9E0G"
      },
      "source": [
        "Quadratic Discriminant Analysis is a generalization of LDA that can learn quadratic boundaries and assumes a gaussian distribution for classes.\n",
        "\n",
        "[More Info](https://scikit-learn.org/0.16/auto_examples/classification/plot_lda_qda.html#example-classification-plot-lda-qda-py)"
      ]
    },
    {
      "cell_type": "code",
      "execution_count": null,
      "metadata": {
        "colab": {
          "base_uri": "https://localhost:8080/"
        },
        "id": "GusVRgDK5ylT",
        "outputId": "111734f9-2c16-422d-f7c6-ed7ac297f771"
      },
      "outputs": [
        {
          "name": "stderr",
          "output_type": "stream",
          "text": [
            "/usr/local/lib/python3.9/dist-packages/sklearn/discriminant_analysis.py:926: UserWarning: Variables are collinear\n",
            "  warnings.warn(\"Variables are collinear\")\n"
          ]
        },
        {
          "name": "stdout",
          "output_type": "stream",
          "text": [
            "accuracy = 0.05\n"
          ]
        }
      ],
      "source": [
        "qda = QDA()\n",
        "qda.fit(trainingMatrix, trainingVector)\n",
        "predictedLabels = qda.predict(testingMatrix)\n",
        "accuracy = accuracy_score(testingVector, predictedLabels)\n",
        "print(f'accuracy = {accuracy}')\n"
      ]
    }
  ],
  "metadata": {
    "colab": {
      "provenance": []
    },
    "kernelspec": {
      "display_name": "Python 3",
      "name": "python3"
    },
    "language_info": {
      "name": "python"
    }
  },
  "nbformat": 4,
  "nbformat_minor": 0
}